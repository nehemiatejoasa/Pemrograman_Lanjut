{
  "nbformat": 4,
  "nbformat_minor": 0,
  "metadata": {
    "kernelspec": {
      "display_name": "Python 3",
      "language": "python",
      "name": "python3"
    },
    "language_info": {
      "codemirror_mode": {
        "name": "ipython",
        "version": 3
      },
      "file_extension": ".py",
      "mimetype": "text/x-python",
      "name": "python",
      "nbconvert_exporter": "python",
      "pygments_lexer": "ipython3",
      "version": "3.8.5"
    },
    "colab": {
      "name": "M/D/1.ipynb",
      "provenance": [],
      "include_colab_link": true
    }
  },
  "cells": [
    {
      "cell_type": "markdown",
      "metadata": {
        "id": "view-in-github",
        "colab_type": "text"
      },
      "source": [
        "<a href=\"https://colab.research.google.com/github/nehemiatejoasa/Pemrograman_Lanjut/blob/master/M_D_1.ipynb\" target=\"_parent\"><img src=\"https://colab.research.google.com/assets/colab-badge.svg\" alt=\"Open In Colab\"/></a>"
      ]
    },
    {
      "cell_type": "markdown",
      "metadata": {
        "id": "EKd0mAENMmEo"
      },
      "source": [
        "**A. Script**"
      ]
    },
    {
      "cell_type": "code",
      "metadata": {
        "id": "St6PB-ObLxik"
      },
      "source": [
        "import pandas as pd\n",
        "import numpy as np\n",
        "import matplotlib.pyplot as plt\n",
        "import seaborn as sns"
      ],
      "execution_count": 1,
      "outputs": []
    },
    {
      "cell_type": "markdown",
      "metadata": {
        "id": "IjmLddrtMs7e"
      },
      "source": [
        "**Definisi**"
      ]
    },
    {
      "cell_type": "code",
      "metadata": {
        "id": "fNnS5sWoLxit"
      },
      "source": [
        "def rand_exp(x):\n",
        "    return -(1/x)*np.log(np.random.rand())"
      ],
      "execution_count": 2,
      "outputs": []
    },
    {
      "cell_type": "markdown",
      "metadata": {
        "id": "LFrkDHH1M5H-"
      },
      "source": [
        "**Main Code**"
      ]
    },
    {
      "cell_type": "code",
      "metadata": {
        "id": "Q3HlbkEhLxiu"
      },
      "source": [
        "mu=1\n",
        "lamda=0.8\n",
        "N=100000\n",
        "IAT=[0]+[rand_exp(lamda) for i in range(1, N)]\n",
        "ST=[0]+[1/mu for i in range(1, N)]\n",
        "JQAT=[0]+np.cumsum(IAT)\n",
        "GSAT=[0]\n",
        "LSAT=[0]\n",
        "TSIS=[0]\n",
        "TSIQ=[0]\n",
        "ro=lamda/mu\n",
        "EN_theory=lamda*((1/mu)+(ro/(2*mu*(1-ro))))"
      ],
      "execution_count": 3,
      "outputs": []
    },
    {
      "cell_type": "code",
      "metadata": {
        "id": "pgaL_xFpLxiu"
      },
      "source": [
        "for i in range(1,N):\n",
        "    if LSAT[i-1]<JQAT[i]:\n",
        "        GSAT.append(JQAT[i])\n",
        "    else:\n",
        "        GSAT.append(LSAT[i-1])\n",
        "    LSAT.append(ST[i]+GSAT[i])"
      ],
      "execution_count": 4,
      "outputs": []
    },
    {
      "cell_type": "code",
      "metadata": {
        "colab": {
          "base_uri": "https://localhost:8080/",
          "height": 0
        },
        "id": "4JUis5-yLxiv",
        "outputId": "5a767ca6-c65a-4c30-ab34-f18aaf04ef21"
      },
      "source": [
        "TSIS=TSIS+(np.array(LSAT)-JQAT)\n",
        "TSIQ=TSIS-np.array(ST)\n",
        "TSIS_cumsum=np.cumsum(TSIS)\n",
        "TSIS_ave=[TSIS_cumsum[i-1]/(i-1) for i in range(1, len(TSIS)+1)]\n",
        "IAT_cumsum=np.cumsum(IAT)\n",
        "IAT_ave=[IAT_cumsum[i-1]/(i-1) for i in range(1, len(IAT)+1)]\n",
        "TQIS=np.array(TSIS)-np.array(ST)\n",
        "EN=np.array(TSIS_ave)*lamda"
      ],
      "execution_count": 5,
      "outputs": [
        {
          "output_type": "stream",
          "text": [
            "/usr/local/lib/python3.7/dist-packages/ipykernel_launcher.py:4: RuntimeWarning: invalid value encountered in double_scalars\n",
            "  after removing the cwd from sys.path.\n",
            "/usr/local/lib/python3.7/dist-packages/ipykernel_launcher.py:6: RuntimeWarning: invalid value encountered in double_scalars\n",
            "  \n"
          ],
          "name": "stderr"
        }
      ]
    },
    {
      "cell_type": "code",
      "metadata": {
        "colab": {
          "base_uri": "https://localhost:8080/",
          "height": 419
        },
        "id": "aR8b0I9GLxiw",
        "outputId": "3cd44789-1202-40d8-e521-09b2a2ba263b"
      },
      "source": [
        "data={\n",
        "    'IAT':IAT,\n",
        "    'JQAT':JQAT,\n",
        "    'ST':ST,\n",
        "    'GSAT':GSAT,\n",
        "    'LSAT':LSAT,\n",
        "    'TSIS':TSIS,\n",
        "    'TSIQ':TSIQ,\n",
        "    'IAT-ave':IAT_ave,\n",
        "    'TSIS_ave':TSIS_ave,\n",
        "    'E[N]':EN\n",
        "}\n",
        "df=pd.DataFrame(data=data)\n",
        "df"
      ],
      "execution_count": 6,
      "outputs": [
        {
          "output_type": "execute_result",
          "data": {
            "text/html": [
              "<div>\n",
              "<style scoped>\n",
              "    .dataframe tbody tr th:only-of-type {\n",
              "        vertical-align: middle;\n",
              "    }\n",
              "\n",
              "    .dataframe tbody tr th {\n",
              "        vertical-align: top;\n",
              "    }\n",
              "\n",
              "    .dataframe thead th {\n",
              "        text-align: right;\n",
              "    }\n",
              "</style>\n",
              "<table border=\"1\" class=\"dataframe\">\n",
              "  <thead>\n",
              "    <tr style=\"text-align: right;\">\n",
              "      <th></th>\n",
              "      <th>IAT</th>\n",
              "      <th>JQAT</th>\n",
              "      <th>ST</th>\n",
              "      <th>GSAT</th>\n",
              "      <th>LSAT</th>\n",
              "      <th>TSIS</th>\n",
              "      <th>TSIQ</th>\n",
              "      <th>IAT-ave</th>\n",
              "      <th>TSIS_ave</th>\n",
              "      <th>E[N]</th>\n",
              "    </tr>\n",
              "  </thead>\n",
              "  <tbody>\n",
              "    <tr>\n",
              "      <th>0</th>\n",
              "      <td>0.000000</td>\n",
              "      <td>0.000000</td>\n",
              "      <td>0.0</td>\n",
              "      <td>0.000000</td>\n",
              "      <td>0.000000</td>\n",
              "      <td>0.000000</td>\n",
              "      <td>0.000000e+00</td>\n",
              "      <td>NaN</td>\n",
              "      <td>NaN</td>\n",
              "      <td>NaN</td>\n",
              "    </tr>\n",
              "    <tr>\n",
              "      <th>1</th>\n",
              "      <td>0.486448</td>\n",
              "      <td>0.486448</td>\n",
              "      <td>1.0</td>\n",
              "      <td>0.486448</td>\n",
              "      <td>1.486448</td>\n",
              "      <td>1.000000</td>\n",
              "      <td>-1.110223e-16</td>\n",
              "      <td>0.486448</td>\n",
              "      <td>1.000000</td>\n",
              "      <td>0.800000</td>\n",
              "    </tr>\n",
              "    <tr>\n",
              "      <th>2</th>\n",
              "      <td>0.374559</td>\n",
              "      <td>0.861007</td>\n",
              "      <td>1.0</td>\n",
              "      <td>1.486448</td>\n",
              "      <td>2.486448</td>\n",
              "      <td>1.625441</td>\n",
              "      <td>6.254407e-01</td>\n",
              "      <td>0.430504</td>\n",
              "      <td>1.312720</td>\n",
              "      <td>1.050176</td>\n",
              "    </tr>\n",
              "    <tr>\n",
              "      <th>3</th>\n",
              "      <td>3.771710</td>\n",
              "      <td>4.632717</td>\n",
              "      <td>1.0</td>\n",
              "      <td>4.632717</td>\n",
              "      <td>5.632717</td>\n",
              "      <td>1.000000</td>\n",
              "      <td>0.000000e+00</td>\n",
              "      <td>1.544239</td>\n",
              "      <td>1.208480</td>\n",
              "      <td>0.966784</td>\n",
              "    </tr>\n",
              "    <tr>\n",
              "      <th>4</th>\n",
              "      <td>0.845772</td>\n",
              "      <td>5.478489</td>\n",
              "      <td>1.0</td>\n",
              "      <td>5.632717</td>\n",
              "      <td>6.632717</td>\n",
              "      <td>1.154228</td>\n",
              "      <td>1.542278e-01</td>\n",
              "      <td>1.369622</td>\n",
              "      <td>1.194917</td>\n",
              "      <td>0.955934</td>\n",
              "    </tr>\n",
              "    <tr>\n",
              "      <th>...</th>\n",
              "      <td>...</td>\n",
              "      <td>...</td>\n",
              "      <td>...</td>\n",
              "      <td>...</td>\n",
              "      <td>...</td>\n",
              "      <td>...</td>\n",
              "      <td>...</td>\n",
              "      <td>...</td>\n",
              "      <td>...</td>\n",
              "      <td>...</td>\n",
              "    </tr>\n",
              "    <tr>\n",
              "      <th>99995</th>\n",
              "      <td>2.263609</td>\n",
              "      <td>124730.949473</td>\n",
              "      <td>1.0</td>\n",
              "      <td>124731.493383</td>\n",
              "      <td>124732.493383</td>\n",
              "      <td>1.543910</td>\n",
              "      <td>5.439102e-01</td>\n",
              "      <td>1.247372</td>\n",
              "      <td>3.045920</td>\n",
              "      <td>2.436736</td>\n",
              "    </tr>\n",
              "    <tr>\n",
              "      <th>99996</th>\n",
              "      <td>0.088560</td>\n",
              "      <td>124731.038033</td>\n",
              "      <td>1.0</td>\n",
              "      <td>124732.493383</td>\n",
              "      <td>124733.493383</td>\n",
              "      <td>2.455351</td>\n",
              "      <td>1.455351e+00</td>\n",
              "      <td>1.247360</td>\n",
              "      <td>3.045914</td>\n",
              "      <td>2.436732</td>\n",
              "    </tr>\n",
              "    <tr>\n",
              "      <th>99997</th>\n",
              "      <td>3.602334</td>\n",
              "      <td>124734.640366</td>\n",
              "      <td>1.0</td>\n",
              "      <td>124734.640366</td>\n",
              "      <td>124735.640366</td>\n",
              "      <td>1.000000</td>\n",
              "      <td>0.000000e+00</td>\n",
              "      <td>1.247384</td>\n",
              "      <td>3.045894</td>\n",
              "      <td>2.436715</td>\n",
              "    </tr>\n",
              "    <tr>\n",
              "      <th>99998</th>\n",
              "      <td>1.648158</td>\n",
              "      <td>124736.288524</td>\n",
              "      <td>1.0</td>\n",
              "      <td>124736.288524</td>\n",
              "      <td>124737.288524</td>\n",
              "      <td>1.000000</td>\n",
              "      <td>0.000000e+00</td>\n",
              "      <td>1.247388</td>\n",
              "      <td>3.045874</td>\n",
              "      <td>2.436699</td>\n",
              "    </tr>\n",
              "    <tr>\n",
              "      <th>99999</th>\n",
              "      <td>3.076297</td>\n",
              "      <td>124739.364821</td>\n",
              "      <td>1.0</td>\n",
              "      <td>124739.364821</td>\n",
              "      <td>124740.364821</td>\n",
              "      <td>1.000000</td>\n",
              "      <td>0.000000e+00</td>\n",
              "      <td>1.247406</td>\n",
              "      <td>3.045853</td>\n",
              "      <td>2.436682</td>\n",
              "    </tr>\n",
              "  </tbody>\n",
              "</table>\n",
              "<p>100000 rows × 10 columns</p>\n",
              "</div>"
            ],
            "text/plain": [
              "            IAT           JQAT   ST  ...   IAT-ave  TSIS_ave      E[N]\n",
              "0      0.000000       0.000000  0.0  ...       NaN       NaN       NaN\n",
              "1      0.486448       0.486448  1.0  ...  0.486448  1.000000  0.800000\n",
              "2      0.374559       0.861007  1.0  ...  0.430504  1.312720  1.050176\n",
              "3      3.771710       4.632717  1.0  ...  1.544239  1.208480  0.966784\n",
              "4      0.845772       5.478489  1.0  ...  1.369622  1.194917  0.955934\n",
              "...         ...            ...  ...  ...       ...       ...       ...\n",
              "99995  2.263609  124730.949473  1.0  ...  1.247372  3.045920  2.436736\n",
              "99996  0.088560  124731.038033  1.0  ...  1.247360  3.045914  2.436732\n",
              "99997  3.602334  124734.640366  1.0  ...  1.247384  3.045894  2.436715\n",
              "99998  1.648158  124736.288524  1.0  ...  1.247388  3.045874  2.436699\n",
              "99999  3.076297  124739.364821  1.0  ...  1.247406  3.045853  2.436682\n",
              "\n",
              "[100000 rows x 10 columns]"
            ]
          },
          "metadata": {
            "tags": []
          },
          "execution_count": 6
        }
      ]
    },
    {
      "cell_type": "markdown",
      "metadata": {
        "id": "bJzY6AoTQeZv"
      },
      "source": [
        "**B. Grafik E[N]**"
      ]
    },
    {
      "cell_type": "code",
      "metadata": {
        "colab": {
          "base_uri": "https://localhost:8080/",
          "height": 354
        },
        "id": "-9zpax7RQW8_",
        "outputId": "ff0dce6c-1180-495b-9610-70be2077d138"
      },
      "source": [
        "sns.lineplot(df.index,df['E[N]'])\n",
        "plt.xlabel('Jumlah Event Kedatangan Pelanggan')\n",
        "plt.ylabel('Jumlah Pelanggan Rata-Rata')\n",
        "plt.legend()\n",
        "plt.show()"
      ],
      "execution_count": 7,
      "outputs": [
        {
          "output_type": "stream",
          "text": [
            "/usr/local/lib/python3.7/dist-packages/seaborn/_decorators.py:43: FutureWarning: Pass the following variables as keyword args: x, y. From version 0.12, the only valid positional argument will be `data`, and passing other arguments without an explicit keyword will result in an error or misinterpretation.\n",
            "  FutureWarning\n",
            "No handles with labels found to put in legend.\n"
          ],
          "name": "stderr"
        },
        {
          "output_type": "display_data",
          "data": {
            "image/png": "[encoded data removed]",
            "text/plain": [
              "<Figure size 432x288 with 1 Axes>"
            ]
          },
          "metadata": {
            "tags": [],
            "needs_background": "light"
          }
        }
      ]
    },
    {
      "cell_type": "markdown",
      "metadata": {
        "id": "fA-dUvg5RQTF"
      },
      "source": [
        "**C.Grafik Simulasi vs Teori**"
      ]
    },
    {
      "cell_type": "code",
      "metadata": {
        "colab": {
          "base_uri": "https://localhost:8080/",
          "height": 337
        },
        "id": "zaP4qPaDLxix",
        "outputId": "f024d0f3-ca07-42c1-b76f-fd0bb0df434c"
      },
      "source": [
        "sns.lineplot(df.index,df['E[N]'])\n",
        "plt.axhline(EN_theory,color='r', label='E[N] Teori')\n",
        "plt.xlabel('Jumlah Event Kedatangan Pelanggan')\n",
        "plt.ylabel('Jumlah Pelanggan Rata-Rata')\n",
        "plt.legend()\n",
        "plt.show()"
      ],
      "execution_count": 8,
      "outputs": [
        {
          "output_type": "stream",
          "text": [
            "/usr/local/lib/python3.7/dist-packages/seaborn/_decorators.py:43: FutureWarning: Pass the following variables as keyword args: x, y. From version 0.12, the only valid positional argument will be `data`, and passing other arguments without an explicit keyword will result in an error or misinterpretation.\n",
            "  FutureWarning\n"
          ],
          "name": "stderr"
        },
        {
          "output_type": "display_data",
          "data": {
            "image/png": "[encoded data removed]",
            "text/plain": [
              "<Figure size 432x288 with 1 Axes>"
            ]
          },
          "metadata": {
            "tags": [],
            "needs_background": "light"
          }
        }
      ]
    }
  ]
}