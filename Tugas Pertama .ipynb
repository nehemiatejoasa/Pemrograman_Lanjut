{
 "cells": [
  {
   "cell_type": "code",
   "execution_count": 25,
   "metadata": {},
   "outputs": [],
   "source": [
    "dict_alay = {\n",
    "    'i' : '1',\n",
    "    'I' : '1',\n",
    "    's' : '2',\n",
    "    'R' : '2',\n",
    "    'e' : '3',\n",
    "    'E' : '3',\n",
    "    'a' : '@',\n",
    "    'A' : '4',    \n",
    "    's' : '5',\n",
    "    'S' : '5',\n",
    "    'G' : '6',\n",
    "    't' : '7',\n",
    "    'T' : '7',\n",
    "    'b' : '8',\n",
    "    'B' : '8',\n",
    "    'g' : '9',\n",
    "    'o' : '0',\n",
    "    'O' : '0',\n",
    "    'k' : 'q',\n",
    "    'K' : 'Q',\n",
    "    'u' : 'v',\n",
    "    'U' : 'V',\n",
    "    '?' : '......????',\n",
    "    '!' : '!!!????',\n",
    "    \n",
    "    \n",
    "}"
   ]
  },
  {
   "cell_type": "code",
   "execution_count": 26,
   "metadata": {},
   "outputs": [],
   "source": [
    "def alay_huruf(h):\n",
    "    if h in dict_alay:\n",
    "        return dict_alay[h]\n",
    "    else :\n",
    "        return h"
   ]
  },
  {
   "cell_type": "code",
   "execution_count": 27,
   "metadata": {},
   "outputs": [],
   "source": [
    "def ganti_alay(n):\n",
    "    kata_baru = ''\n",
    "    for h in n :\n",
    "        kata_baru += alay_huruf(h)\n",
    "    return kata_baru"
   ]
  },
  {
   "cell_type": "code",
   "execution_count": 28,
   "metadata": {},
   "outputs": [
    {
     "name": "stdout",
     "output_type": "stream",
     "text": [
      "Aja\n",
      "4j@\n"
     ]
    }
   ],
   "source": [
    "masukan = input()\n",
    "print(ganti_alay(masukan))"
   ]
  },
  {
   "cell_type": "code",
   "execution_count": null,
   "metadata": {},
   "outputs": [],
   "source": []
  },
  {
   "cell_type": "code",
   "execution_count": null,
   "metadata": {},
   "outputs": [],
   "source": []
  }
 ],
 "metadata": {
  "kernelspec": {
   "display_name": "Python 3",
   "language": "python",
   "name": "python3"
  },
  "language_info": {
   "codemirror_mode": {
    "name": "ipython",
    "version": 3
   },
   "file_extension": ".py",
   "mimetype": "text/x-python",
   "name": "python",
   "nbconvert_exporter": "python",
   "pygments_lexer": "ipython3",
   "version": "3.7.3"
  }
 },
 "nbformat": 4,
 "nbformat_minor": 2
}
