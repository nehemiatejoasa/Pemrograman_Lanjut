{
 "cells": [
  {
   "cell_type": "code",
   "execution_count": 4,
   "metadata": {},
   "outputs": [
    {
     "name": "stdout",
     "output_type": "stream",
     "text": [
      "Welcome to Python!\n",
      "8\n"
     ]
    }
   ],
   "source": [
    "print (\"Welcome to Python!\")\n",
    "my_variable = 10\n",
    "\n",
    "my_int = 7\n",
    "my_float = 1.23\n",
    "my_bool = True\n",
    "\n",
    "# change value\n",
    "my_int = 7\n",
    "my_int = 8\n",
    "print (my_int)"
   ]
  },
  {
   "cell_type": "code",
   "execution_count": 6,
   "metadata": {},
   "outputs": [
    {
     "name": "stdout",
     "output_type": "stream",
     "text": [
      "11000.6\n",
      "100\n",
      "1\n"
     ]
    }
   ],
   "source": [
    "# single line comment\n",
    "\"\"\"test\n",
    "multi lines comment\n",
    "\"\"\"\n",
    "addition = 72 + 23\n",
    "subtraction = 108 - 204\n",
    "multiplication = 108 * 0.5\n",
    "division = 108 / 9\n",
    "\n",
    "# addition\n",
    "count_to = 5000 + 6000.6\n",
    "print (count_to)\n",
    "\n",
    "# square, exponentiation, to the power of\n",
    "eggs = 10**2\n",
    "print (eggs)\n",
    "\n",
    "# modulo\n",
    "spam = 5 % 4\n",
    "print (spam)\n",
    "# 1, modulo"
   ]
  },
  {
   "cell_type": "code",
   "execution_count": 8,
   "metadata": {},
   "outputs": [
    {
     "name": "stdout",
     "output_type": "stream",
     "text": [
      "54.63\n"
     ]
    }
   ],
   "source": [
    "meal = 44.50\n",
    "# 6.75%\n",
    "tax = 0.0675\n",
    "# 15%\n",
    "tip = 0.15\n",
    "meal = meal + meal * tax\n",
    "total = meal + meal * tip\n",
    "print(\"%.2f\" % total)"
   ]
  },
  {
   "cell_type": "code",
   "execution_count": 10,
   "metadata": {},
   "outputs": [
    {
     "name": "stdout",
     "output_type": "stream",
     "text": [
      "Graham\n",
      "This isn't flying, this is falling with style!\n",
      "Y\n"
     ]
    }
   ],
   "source": [
    "caesar = \"Graham\"\n",
    "print (caesar)\n",
    "# Escaping characters\n",
    "abc = 'This isn\\'t flying, this is falling with style!'\n",
    "print (abc)\n",
    "\"\"\"\n",
    "The string \"PYTHON\" has six characters,\n",
    "numbered 0 to 5, as shown below:\n",
    "+---+---+---+---+---+---+\n",
    "| P | Y | T | H | O | N |\n",
    "+---+---+---+---+---+---+\n",
    "  0   1   2   3   4   5\n",
    "So if you wanted \"Y\", you could just type\n",
    "\"PYTHON\"[1] (always start counting from 0!)\n",
    "\"\"\"\n",
    "fifth_letter = \"MONTY\"[4]\n",
    "print (fifth_letter)\n",
    "# Y"
   ]
  },
  {
   "cell_type": "code",
   "execution_count": 11,
   "metadata": {},
   "outputs": [
    {
     "name": "stdout",
     "output_type": "stream",
     "text": [
      "14\n",
      "norwegian blue\n",
      "NORWEGIAN BLUE\n",
      "3.14\n",
      "27\n",
      "THE MINISTRY OF SILLY WALKS\n"
     ]
    }
   ],
   "source": [
    "parrot = \"Norwegian Blue\"\n",
    "print (len(parrot)) \n",
    "#14\n",
    "# String methods: len(), lower(), upper(), str()\n",
    "parrot = \"Norwegian Blue\"\n",
    "print (parrot.lower()) \n",
    "print (parrot.upper())\n",
    "# to string\n",
    "pi=3.14\n",
    "print (str(pi))\n",
    "# review\n",
    "ministry = \"The Ministry of Silly Walks\"\n",
    "print (len(ministry)) \n",
    "print (ministry.upper())"
   ]
  },
  {
   "cell_type": "code",
   "execution_count": 13,
   "metadata": {},
   "outputs": [
    {
     "name": "stdout",
     "output_type": "stream",
     "text": [
      "Spam and eggs\n",
      "The value of pi is around 3.14\n",
      "Let's not go to Camelot. 'Tis a silly place.\n",
      "Hello Mike\n",
      "What is your name?dhea\n",
      "What is your quest??\n",
      "What is your favorite color?black\n",
      "Ah, so your name is dhea, your quest is ?, and your favorite color is black.\n"
     ]
    }
   ],
   "source": [
    "# to string, printing variables, string concatenation\n",
    "print (\"Spam \" + \"and \" + \"eggs\")\n",
    "# print (\"The value of pi is around \" + 3.14)\n",
    "# error\n",
    "print (\"The value of pi is around \" + str(3.14))\n",
    "\n",
    "string_1 = \"Camelot\"\n",
    "string_2 = \"place\"\n",
    "print (\"Let's not go to %s. 'Tis a silly %s.\" % (string_1, string_2))\n",
    "\n",
    "# string formatting\n",
    "name = \"Mike\"\n",
    "print (\"Hello %s\" % (name))\n",
    "\n",
    "# string formatting, tanda %s dan %\n",
    "# fungsi raw_input (input dari keyboard pas runtime)\n",
    "name = input(\"What is your name?\")\n",
    "quest = input(\"What is your quest?\")\n",
    "color = input(\"What is your favorite color?\")\n",
    "\n",
    "print (\"Ah, so your name is %s, your quest is %s, \" \\\n",
    "\"and your favorite color is %s.\" % (name, quest, color))"
   ]
  },
  {
   "cell_type": "code",
   "execution_count": 14,
   "metadata": {},
   "outputs": [
    {
     "name": "stdout",
     "output_type": "stream",
     "text": [
      "2019-09-18 22:36:51.409898\n",
      "2019\n",
      "9\n",
      "18\n",
      "2019-9-18\n",
      "18/9/2019\n",
      "22\n",
      "36\n",
      "51\n",
      "22:36:51\n",
      "18/9/2019 22:36:51\n"
     ]
    }
   ],
   "source": [
    "from datetime import datetime\n",
    "now = datetime.now()\n",
    "print (now)\n",
    "\n",
    "# member, bukan method\n",
    "print (now.year)\n",
    "print (now.month)\n",
    "print (now.day)\n",
    "\n",
    "print ('%s-%s-%s' % (now.year, now.month, now.day))\n",
    "print ('%s/%s/%s' % (now.day, now.month, now.year))\n",
    "\n",
    "print (now.hour)\n",
    "print (now.minute)\n",
    "print (now.second)\n",
    "\n",
    "print ('%s:%s:%s' % (now.hour, now.minute, now.second))\n",
    "print ('%s/%s/%s %s:%s:%s' % (now.day, now.month, now.year,now.hour, now.minute, now.second))"
   ]
  },
  {
   "cell_type": "code",
   "execution_count": 15,
   "metadata": {},
   "outputs": [
    {
     "name": "stdout",
     "output_type": "stream",
     "text": [
      "You've just entered the clinic!\n",
      "Do you take the door on the left or the right?\n",
      "Type left or right and hit 'Enter'.left\n",
      "This is the Verbal Abuse Room, you heap of parrot droppings!\n"
     ]
    }
   ],
   "source": [
    "# raw_input\n",
    "def clinic():\n",
    "    print (\"You've just entered the clinic!\")\n",
    "    print (\"Do you take the door on the left or the right?\")\n",
    "    answer = input(\"Type left or right and hit 'Enter'.\").lower()\n",
    "    if answer == \"left\" or answer == \"l\":\n",
    "        print (\"This is the Verbal Abuse Room, you heap of parrot droppings!\")\n",
    "    elif answer == \"right\" or answer == \"r\":\n",
    "        print (\"Of course this is the Argument Room, I've told you that already!\")\n",
    "    else:\n",
    "        print (\"You didn't pick left or right! Try again.\")\n",
    "        clinic()\n",
    "clinic()"
   ]
  },
  {
   "cell_type": "code",
   "execution_count": 16,
   "metadata": {},
   "outputs": [],
   "source": [
    "#Boolean Comparisons\n",
    "\n",
    "bool_one = True    # 17 < 328    \n",
    "bool_two = True    # 100 == (2 * 50)\n",
    "bool_three = True  # 19 <= 19 \n",
    "bool_four = False  # -22 >= -18 \n",
    "bool_five = False  # 99 != (98 + 1)\n",
    "\n",
    "bool_one = False   # (20 - 10) > 15\n",
    "bool_two = False   # (10 + 17) == 3**16\n",
    "bool_three = False # 1**2 <= -1\n",
    "bool_four = True   # 40 * 4 >= -4\n",
    "bool_five = False  # 100 != 10**2\n",
    "\n",
    "# -----\n",
    "\n",
    "bool_one = 3 < 5     # True\n",
    "bool_two = 3 > 5     # False\n",
    "bool_three = 5 == 5  # True\n",
    "bool_four = 3 != 3   # False\n",
    "bool_five = 3 <= 3   # True"
   ]
  },
  {
   "cell_type": "code",
   "execution_count": 17,
   "metadata": {},
   "outputs": [
    {
     "name": "stdout",
     "output_type": "stream",
     "text": [
      "This is the Verbal Abuse Room, you heap of parrot droppings!\n",
      "Success #1\n",
      "Success #2\n"
     ]
    }
   ],
   "source": [
    "answer = \"Left\"\n",
    "if answer == \"Left\":\n",
    "    print (\"This is the Verbal Abuse Room, you heap of parrot droppings!\")\n",
    "\n",
    "# Will the above print statement print to the console?\n",
    "\n",
    "# ---\n",
    "def using_control_once():\n",
    "    if True:\n",
    "        return \"Success #1\"\n",
    "\n",
    "def using_control_again():\n",
    "    if True:\n",
    "        return \"Success #2\"\n",
    "\n",
    "print (using_control_once())\n",
    "print (using_control_again())"
   ]
  },
  {
   "cell_type": "code",
   "execution_count": 18,
   "metadata": {},
   "outputs": [],
   "source": [
    "# condition\n",
    "answer = \"'Tis but a scratch!\"\n",
    "\n",
    "def black_knight():\n",
    "    if answer == \"'Tis but a scratch!\":\n",
    "        return True\n",
    "    else:             \n",
    "        return False       # Make sure this returns False\n",
    "\n",
    "def french_soldier():\n",
    "    if answer == \"Go away, or I shall taunt you a second time!\":\n",
    "        return True\n",
    "    else:             \n",
    "        return False       # Make sure this returns False"
   ]
  },
  {
   "cell_type": "code",
   "execution_count": 19,
   "metadata": {},
   "outputs": [
    {
     "name": "stdout",
     "output_type": "stream",
     "text": [
      "-1\n",
      "0\n",
      "1\n"
     ]
    }
   ],
   "source": [
    "# condition\n",
    "def greater_less_equal_5(answer):\n",
    "    if answer > 5:\n",
    "        return 1\n",
    "    elif answer < 5:          \n",
    "        return -1\n",
    "    else:\n",
    "        return 0\n",
    "    \n",
    "print (greater_less_equal_5(4))\n",
    "print (greater_less_equal_5(5))\n",
    "print (greater_less_equal_5(6))\n",
    "\n",
    "# review\n",
    "def the_flying_circus():\n",
    "    if 5 == 5:    # Start coding here!\n",
    "        # Don't forget to indent\n",
    "        # the code inside this block!\n",
    "        return True\n",
    "    elif True and True :\n",
    "        # Keep going here.\n",
    "        # You'll want to add the else statement, too!\n",
    "        return False\n",
    "    else :\n",
    "        return False"
   ]
  },
  {
   "cell_type": "code",
   "execution_count": 20,
   "metadata": {},
   "outputs": [
    {
     "name": "stdout",
     "output_type": "stream",
     "text": [
      "Welcome to the Pig Latin Translator!\n",
      "Enter a word:bye\n",
      "bye\n"
     ]
    }
   ],
   "source": [
    "print ('Welcome to the Pig Latin Translator!')\n",
    "\n",
    "original = input(\"Enter a word:\")\n",
    "\n",
    "if len(original) > 0 and original.isalpha():\n",
    "    print (original)\n",
    "else:\n",
    "    print (\"empty\")"
   ]
  },
  {
   "cell_type": "code",
   "execution_count": 21,
   "metadata": {},
   "outputs": [
    {
     "name": "stdout",
     "output_type": "stream",
     "text": [
      "Enter a word:bye\n",
      "yebay\n"
     ]
    }
   ],
   "source": [
    "pyg = 'ay'\n",
    "original = input('Enter a word:')\n",
    "if len(original) > 0 and original.isalpha():\n",
    "    word = original.lower()\n",
    "    first = word[0]\n",
    "    new_word = word + first + pyg\n",
    "    new_word = new_word[1:len(new_word)] \n",
    "    print (new_word)\n",
    "else:\n",
    "    print ('empty')"
   ]
  },
  {
   "cell_type": "code",
   "execution_count": 22,
   "metadata": {},
   "outputs": [
    {
     "name": "stdout",
     "output_type": "stream",
     "text": [
      "With tax: 108.000000\n",
      "With tip: 124.200000\n"
     ]
    }
   ],
   "source": [
    "def tax(bill):\n",
    "    \"\"\"Adds 8% tax to a restaurant bill.\"\"\"\n",
    "    bill *= 1.08\n",
    "    print (\"With tax: %f\" % bill)\n",
    "    return bill\n",
    "\n",
    "def tip(bill):\n",
    "    \"\"\"Adds 15% tip to a restaurant bill.\"\"\"\n",
    "    bill *= 1.15\n",
    "    print (\"With tip: %f\" % bill)\n",
    "    return bill\n",
    "\n",
    "meal_cost = 100\n",
    "meal_with_tax = tax(meal_cost)\n",
    "meal_with_tip = tip(meal_with_tax)"
   ]
  },
  {
   "cell_type": "code",
   "execution_count": 23,
   "metadata": {},
   "outputs": [
    {
     "name": "stdout",
     "output_type": "stream",
     "text": [
      "10 squared is 100.\n",
      "37 to the power of 4 is 1874161.\n"
     ]
    }
   ],
   "source": [
    "def square(n):\n",
    "    squared = n**2\n",
    "    print (\"%d squared is %d.\" % (n, squared))\n",
    "    return squared\n",
    "\n",
    "square(10)\n",
    "\n",
    "# ---\n",
    "\n",
    "def power(base, exponent):  # Add your parameters here!\n",
    "    result = base**exponent\n",
    "    print (\"%d to the power of %d is %d.\" % (base, exponent, result))\n",
    "    \n",
    "power(37,4)  # Add your arguments here!"
   ]
  },
  {
   "cell_type": "code",
   "execution_count": 24,
   "metadata": {},
   "outputs": [],
   "source": [
    "\n",
    "# Functions call functions\n",
    "def one_good_turn(n):\n",
    "    return n + 1\n",
    "\n",
    "def deserves_another(n):\n",
    "    return one_good_turn(n) + 2\n",
    "\n",
    "# ---\n",
    "\n",
    "def shout(phrase):\n",
    "    if phrase == phrase.upper():\n",
    "        return \"YOU'RE SHOUTING!\"\n",
    "    else:\n",
    "        return \"Can you speak up?\"\n",
    "\n",
    "    shout(\"I'M INTERESTED IN SHOUTING\")\n",
    "\n",
    "# ---\n",
    "\n",
    "def cube(number):\n",
    "    return number**3\n",
    "\n",
    "def by_three(number):\n",
    "    if number % 3 == 0:\n",
    "        return cube(number)\n",
    "    else:\n",
    "        return False"
   ]
  },
  {
   "cell_type": "code",
   "execution_count": 25,
   "metadata": {},
   "outputs": [
    {
     "name": "stdout",
     "output_type": "stream",
     "text": [
      "10\n",
      "-10\n",
      "10\n",
      "6\n"
     ]
    }
   ],
   "source": [
    "def biggest_number(*args):\n",
    "    print (max(args))\n",
    "    return max(args)\n",
    "\n",
    "def smallest_number(*args):\n",
    "    print (min(args))\n",
    "    return min(args)\n",
    "\n",
    "def distance_from_zero(arg):\n",
    "    print (abs(arg))\n",
    "    return abs(arg)\n",
    "\n",
    "biggest_number(-10, -5, 5, 10)\n",
    "smallest_number(-10, -5, 5, 10)\n",
    "distance_from_zero(-10)\n",
    "# ---\n",
    "maximum = max(2.3,4.1,6)\n",
    "minimum = min(2.3,4.1,6)\n",
    "absolute = abs(-42)\n",
    "\n",
    "print (maximum)"
   ]
  },
  {
   "cell_type": "code",
   "execution_count": 26,
   "metadata": {},
   "outputs": [
    {
     "name": "stdout",
     "output_type": "stream",
     "text": [
      "1955\n"
     ]
    }
   ],
   "source": [
    "def hotel_cost(nights): return 140*nights\n",
    "\n",
    "def plane_ride_cost(city):\n",
    "    if city==\"Charlotte\": return 183\n",
    "    elif city==\"Tampa\": return 220\n",
    "    elif city==\"Pittsburgh\": return 222\n",
    "    elif city==\"Los Angeles\": return 475\n",
    "    \n",
    "def rental_car_cost(days):\n",
    "    costperday = 40\n",
    "    if days >= 7: total = days * costperday - 50\n",
    "    elif days >=3: total = days * costperday - 20\n",
    "    else: total = days * costperday\n",
    "    return total\n",
    "\n",
    "def trip_cost(city,days,spending_money):\n",
    "    return rental_car_cost(days)+hotel_cost(days)+plane_ride_cost(city)+spending_money\n",
    "\n",
    "print (trip_cost(\"Los Angeles\",5,600))"
   ]
  },
  {
   "cell_type": "code",
   "execution_count": 27,
   "metadata": {},
   "outputs": [
    {
     "name": "stdout",
     "output_type": "stream",
     "text": [
      "The first animal at the zoo is the pangolin\n",
      "The second animal at the zoo is the cassowary\n",
      "The third animal at the zoo is the sloth\n",
      "The fourth animal at the zoo is the gajah\n"
     ]
    }
   ],
   "source": [
    "# list_name = [item_1, item_2], empty []\n",
    "zoo_animals = [\"pangolin\", \"cassowary\", \"sloth\", \"gajah\"];\n",
    "if len(zoo_animals) > 3:\n",
    "    print (\"The first animal at the zoo is the \" + zoo_animals[0])\n",
    "    print (\"The second animal at the zoo is the \" + zoo_animals[1])\n",
    "    print (\"The third animal at the zoo is the \" + zoo_animals[2])\n",
    "    print (\"The fourth animal at the zoo is the \" + zoo_animals[3])"
   ]
  },
  {
   "cell_type": "code",
   "execution_count": 28,
   "metadata": {},
   "outputs": [
    {
     "name": "stdout",
     "output_type": "stream",
     "text": [
      "There are 4 items in the suitcase.\n",
      "['sunglasses', 'a', 'b', 'c']\n"
     ]
    },
    {
     "data": {
      "text/plain": [
       "\"\\nThere are 4 items in the suitcase.\\n['sunglasses', 'a', 'b', 'c']\\n\""
      ]
     },
     "execution_count": 28,
     "metadata": {},
     "output_type": "execute_result"
    }
   ],
   "source": [
    "suitcase = [] \n",
    "suitcase.append(\"sunglasses\")\n",
    "\n",
    "# Your code here!\n",
    "suitcase.append('a')\n",
    "suitcase.append('b')\n",
    "suitcase.append('c')\n",
    "\n",
    "list_length = len(suitcase) # Set this to the length of suitcase\n",
    "\n",
    "print (\"There are %d items in the suitcase.\" % (list_length))\n",
    "print (suitcase)\n",
    "\"\"\"\n",
    "There are 4 items in the suitcase.\n",
    "['sunglasses', 'a', 'b', 'c']\n",
    "\"\"\""
   ]
  },
  {
   "cell_type": "code",
   "execution_count": 29,
   "metadata": {},
   "outputs": [
    {
     "name": "stdout",
     "output_type": "stream",
     "text": [
      "2\n",
      "18\n",
      "6\n",
      "16\n",
      "10\n",
      "14\n",
      "[1, 4, 9, 16, 25]\n"
     ]
    }
   ],
   "source": [
    "my_list = [1,9,3,8,5,7]\n",
    "\n",
    "for number in my_list: print (2*number)\n",
    "# 2    \n",
    "# .sort\n",
    "start_list = [5, 3, 1, 2, 4]\n",
    "square_list = []\n",
    "\n",
    "for num in start_list:\n",
    "    square_list.append(num**2)\n",
    "\n",
    "square_list.sort()\n",
    "print (square_list)"
   ]
  },
  {
   "cell_type": "code",
   "execution_count": 30,
   "metadata": {},
   "outputs": [
    {
     "name": "stdout",
     "output_type": "stream",
     "text": [
      "{'Atlantic Puffin': 'Arctic Exhibit', 'Rockhopper Penguin': 'Arctic Exhibit Mod'}\n"
     ]
    }
   ],
   "source": [
    "# key - animal_name : value - location \n",
    "zoo_animals = { 'Unicorn' : 'Cotton Candy House',\n",
    "                'Sloth' : 'Rainforest Exhibit',\n",
    "                'Bengal Tiger' : 'Jungle House',\n",
    "                'Atlantic Puffin' : 'Arctic Exhibit',\n",
    "                'Rockhopper Penguin' : 'Arctic Exhibit'}\n",
    "\n",
    "# Removing the 'Unicorn' entry. (Unicorns are incredibly expensive.)\n",
    "del zoo_animals['Unicorn']\n",
    "\n",
    "del zoo_animals['Sloth']\n",
    "del zoo_animals['Bengal Tiger']\n",
    "zoo_animals['Rockhopper Penguin']='Arctic Exhibit Mod'\n",
    "\n",
    "print (zoo_animals)"
   ]
  },
  {
   "cell_type": "code",
   "execution_count": 31,
   "metadata": {},
   "outputs": [
    {
     "name": "stdout",
     "output_type": "stream",
     "text": [
      "Adam\n",
      "Alex\n",
      "Mariah\n",
      "Martine\n",
      "Columbus\n",
      "A star of a popular children's cartoon show.\n",
      "The sound a goat makes.\n",
      "Goes on the floor.\n",
      "A small amount.\n"
     ]
    }
   ],
   "source": [
    "names = [\"Adam\",\"Alex\",\"Mariah\",\"Martine\",\"Columbus\"]\n",
    "for item in names: print (item)\n",
    "    \n",
    "# ---\n",
    "# indent first element dalam dict dalam {}, spt di bhs lain\n",
    "webster = {\n",
    "     \"Aardvark\" : \"A star of a popular children's cartoon show.\",\n",
    "     \"Baa\" : \"The sound a goat makes.\",\n",
    "     \"Carpet\": \"Goes on the floor.\",\n",
    "     \"Dab\": \"A small amount.\"\n",
    "}\n",
    "\n",
    "for key in webster:\n",
    "    print (webster[key])"
   ]
  },
  {
   "cell_type": "code",
   "execution_count": 32,
   "metadata": {},
   "outputs": [
    {
     "name": "stdout",
     "output_type": "stream",
     "text": [
      "C\n",
      "o\n",
      "d\n",
      "e\n",
      "c\n",
      "a\n",
      "d\n",
      "e\n",
      "m\n",
      "y\n",
      "i\n",
      "i\n"
     ]
    }
   ],
   "source": [
    "for letter in \"Codecademy\": print (letter)\n",
    "\n",
    "    # Empty lines to make the output pretty\n",
    "print\n",
    "print\n",
    "\n",
    "word = \"Programming is fun!\"\n",
    "\n",
    "for letter in word:\n",
    "    # Only print out the letter i\n",
    "    if letter == \"i\": print (letter)"
   ]
  },
  {
   "cell_type": "code",
   "execution_count": 33,
   "metadata": {},
   "outputs": [
    {
     "name": "stdout",
     "output_type": "stream",
     "text": [
      "banana\n",
      "price: 4\n",
      "stock: 6\n",
      "apple\n",
      "price: 2\n",
      "stock: 0\n",
      "orange\n",
      "price: 1.5\n",
      "stock: 32\n",
      "pear\n",
      "price: 3\n",
      "stock: 15\n",
      "24\n",
      "0\n",
      "48.0\n",
      "45\n",
      "117.0\n"
     ]
    }
   ],
   "source": [
    "prices = {\n",
    "    \"banana\" : 4,   \"apple\"  : 2,\n",
    "    \"orange\" : 1.5, \"pear\"   : 3,\n",
    "}\n",
    "stock = {\n",
    "    \"banana\" : 6,   \"apple\"  : 0,\n",
    "    \"orange\" : 32,  \"pear\"   : 15,\n",
    "}\n",
    "\n",
    "for key in prices:\n",
    "    print (key)\n",
    "    print (\"price: %s\" % prices[key])\n",
    "    print (\"stock: %s\" % stock[key])\n",
    "\n",
    "    total = 0\n",
    "for key in prices:\n",
    "     print (prices[key]*stock[key])\n",
    "     total += prices[key]*stock[key]\n",
    "print (total)"
   ]
  },
  {
   "cell_type": "code",
   "execution_count": 34,
   "metadata": {},
   "outputs": [
    {
     "name": "stdout",
     "output_type": "stream",
     "text": [
      "MichaelLieberman\n"
     ]
    }
   ],
   "source": [
    "n = [3, 5, 7]\n",
    "\n",
    "def total(numbers):\n",
    "    result = 0\n",
    "    for num in numbers: #for i in range(len(numbers)):\n",
    "        result += num   #result += numbers[i]\n",
    "    return result\n",
    "\n",
    "# 2    \n",
    "n = [\"Michael\", \"Lieberman\"]\n",
    "\n",
    "def join_strings(words):\n",
    "    result = \"\"\n",
    "    for item in words:\n",
    "        result += item\n",
    "    return result\n",
    "\n",
    "print (join_strings(n))"
   ]
  },
  {
   "cell_type": "code",
   "execution_count": 35,
   "metadata": {},
   "outputs": [
    {
     "name": "stdout",
     "output_type": "stream",
     "text": [
      "Let's play Battleship!\n",
      "O O O O O\n",
      "O O O O O\n",
      "O O O O O\n",
      "O O O O O\n",
      "O O O O O\n",
      "Turn\n",
      "Guess Row:7\n",
      "Guess Col:5\n",
      "Oops, that's not even in the ocean.\n",
      "Turn\n",
      "Guess Row:5\n",
      "Guess Col:5\n",
      "Oops, that's not even in the ocean.\n",
      "Turn\n",
      "Guess Row:4\n",
      "Guess Col:3\n",
      "You missed my battleship!\n",
      "O O O O O\n",
      "O O O O O\n",
      "O O O O O\n",
      "O O O O O\n",
      "O O O X O\n",
      "Turn\n",
      "Guess Row:\n"
     ]
    },
    {
     "ename": "ValueError",
     "evalue": "invalid literal for int() with base 10: ''",
     "output_type": "error",
     "traceback": [
      "\u001b[1;31m---------------------------------------------------------------------------\u001b[0m",
      "\u001b[1;31mValueError\u001b[0m                                Traceback (most recent call last)",
      "\u001b[1;32m<ipython-input-35-1a4980a7d882>\u001b[0m in \u001b[0;36m<module>\u001b[1;34m\u001b[0m\n\u001b[0;32m     23\u001b[0m \u001b[1;32mfor\u001b[0m \u001b[0mturn\u001b[0m \u001b[1;32min\u001b[0m \u001b[0mrange\u001b[0m\u001b[1;33m(\u001b[0m\u001b[1;36m4\u001b[0m\u001b[1;33m)\u001b[0m\u001b[1;33m:\u001b[0m\u001b[1;33m\u001b[0m\u001b[1;33m\u001b[0m\u001b[0m\n\u001b[0;32m     24\u001b[0m   \u001b[0mprint\u001b[0m \u001b[1;33m(\u001b[0m\u001b[1;34m\"Turn\"\u001b[0m\u001b[1;33m)\u001b[0m\u001b[1;33m,\u001b[0m \u001b[0mturn\u001b[0m \u001b[1;33m+\u001b[0m \u001b[1;36m1\u001b[0m\u001b[1;33m\u001b[0m\u001b[1;33m\u001b[0m\u001b[0m\n\u001b[1;32m---> 25\u001b[1;33m   \u001b[0mguess_row\u001b[0m \u001b[1;33m=\u001b[0m \u001b[0mint\u001b[0m\u001b[1;33m(\u001b[0m\u001b[0minput\u001b[0m\u001b[1;33m(\u001b[0m\u001b[1;34m\"Guess Row:\"\u001b[0m\u001b[1;33m)\u001b[0m\u001b[1;33m)\u001b[0m\u001b[1;33m\u001b[0m\u001b[1;33m\u001b[0m\u001b[0m\n\u001b[0m\u001b[0;32m     26\u001b[0m   \u001b[0mguess_col\u001b[0m \u001b[1;33m=\u001b[0m \u001b[0mint\u001b[0m\u001b[1;33m(\u001b[0m\u001b[0minput\u001b[0m\u001b[1;33m(\u001b[0m\u001b[1;34m\"Guess Col:\"\u001b[0m\u001b[1;33m)\u001b[0m\u001b[1;33m)\u001b[0m\u001b[1;33m\u001b[0m\u001b[1;33m\u001b[0m\u001b[0m\n\u001b[0;32m     27\u001b[0m \u001b[1;33m\u001b[0m\u001b[0m\n",
      "\u001b[1;31mValueError\u001b[0m: invalid literal for int() with base 10: ''"
     ]
    }
   ],
   "source": [
    "#Battleship\n",
    "# .join method uses the string to combine the items in the list.\n",
    "from random import randint\n",
    "\n",
    "board = []\n",
    "for x in range(5): board.append([\"O\"] * 5)\n",
    "    \n",
    "def print_board(board):\n",
    "    for row in board: print (\" \".join(row))\n",
    "        \n",
    "print (\"Let's play Battleship!\")\n",
    "print_board(board)\n",
    "# ---\n",
    "def random_row(board): return randint(0, len(board) - 1)\n",
    "def random_col(board): return randint(0, len(board[0]) - 1)\n",
    "\n",
    "ship_row = random_row(board)\n",
    "ship_col = random_col(board)\n",
    "#print ship_row\n",
    "#print ship_col\n",
    "\n",
    "# Multi line if condition, guess_row not in range(5)\n",
    "for turn in range(4):\n",
    "  print (\"Turn\"), turn + 1\n",
    "  guess_row = int(input(\"Guess Row:\"))\n",
    "  guess_col = int(input(\"Guess Col:\"))\n",
    "\n",
    "  if guess_row == ship_row and guess_col == ship_col:\n",
    "    print (\"Congratulations! You sank my battleship!\")\n",
    "    break\n",
    "  else:\n",
    "    if (guess_row < 0 or guess_row > 4) or \\\n",
    "    (guess_col < 0 or   guess_col > 4):\n",
    "        print (\"Oops, that's not even in the ocean.\")\n",
    "    elif(board[guess_row][guess_col] == \"X\"):\n",
    "        print (\"You guessed that one already.\")\n",
    "    else:\n",
    "        print (\"You missed my battleship!\")\n",
    "        board[guess_row][guess_col] = \"X\"\n",
    "        print_board(board)\n",
    "    if turn == 3:\n",
    "        print (\"Game Over\")\n"
   ]
  },
  {
   "cell_type": "code",
   "execution_count": 36,
   "metadata": {},
   "outputs": [
    {
     "name": "stdout",
     "output_type": "stream",
     "text": [
      "Lucky Numbers! 3 numbers will be generated.\n",
      "If one of them is a '5', you lose!\n",
      "3\n",
      "2\n",
      "6\n",
      "You win!\n",
      "Your guess: 3\n",
      "Your guess: -1\n",
      "Your guess: 9\n",
      "You lose.\n"
     ]
    }
   ],
   "source": [
    "#while else\n",
    "# 6 while else\n",
    "import random\n",
    "print (\"Lucky Numbers! 3 numbers will be generated.\")\n",
    "print (\"If one of them is a '5', you lose!\")\n",
    "count = 0\n",
    "while count < 3:\n",
    "    num = random.randint(1, 6)\n",
    "    print (num)\n",
    "    if num == 5:\n",
    "        print (\"Sorry, you lose!\")\n",
    "        break\n",
    "    count += 1\n",
    "else:\n",
    "    print (\"You win!\")\n",
    "#else dieksekusi setelah kondisi false; tdk pernah dieksekusi setelah break\n",
    "# ---\n",
    "# 7\n",
    "from random import randint\n",
    "# Generates a number from 1 through 10 inclusive\n",
    "random_number = randint(1, 10)\n",
    "guesses_left = 3\n",
    "while guesses_left > 0:\n",
    "    guess = int(input(\"Your guess: \"))\n",
    "    if guess == random_number:\n",
    "        print ('You win!')\n",
    "        break\n",
    "    guesses_left -=1\n",
    "else:\n",
    "    print ('You lose.')"
   ]
  },
  {
   "cell_type": "code",
   "execution_count": 37,
   "metadata": {},
   "outputs": [
    {
     "name": "stdout",
     "output_type": "stream",
     "text": [
      "Your choices are:\n",
      "1 pizza\n",
      "2 pasta\n",
      "3 salad\n",
      "4 nachos\n",
      "3\n",
      "9\n",
      "17\n",
      "15\n",
      "30\n"
     ]
    }
   ],
   "source": [
    "choices = ['pizza', 'pasta', 'salad', 'nachos']\n",
    "print ('Your choices are:')\n",
    "for index, item in enumerate(choices):\n",
    "    print (index+1, item)\n",
    "# ---\n",
    "# 6 \n",
    "list_a = [3, 9, 17, 15, 19]\n",
    "list_b = [2, 4, 8, 10, 30, 40, 50, 60, 70, 80, 90]\n",
    "for a, b in zip(list_a, list_b):\n",
    "    # Add your code here!\n",
    "    if a > b:\n",
    "        print (a)\n",
    "    else:\n",
    "        print (b)\n",
    "# zip will create pairs of elements when passed two lists, \n",
    "# and will stop at the end of the shorter list.\n",
    "# zip can handle three or more lists as well!"
   ]
  },
  {
   "cell_type": "code",
   "execution_count": null,
   "metadata": {},
   "outputs": [],
   "source": []
  }
 ],
 "metadata": {
  "kernelspec": {
   "display_name": "Python 3",
   "language": "python",
   "name": "python3"
  },
  "language_info": {
   "codemirror_mode": {
    "name": "ipython",
    "version": 3
   },
   "file_extension": ".py",
   "mimetype": "text/x-python",
   "name": "python",
   "nbconvert_exporter": "python",
   "pygments_lexer": "ipython3",
   "version": "3.7.3"
  }
 },
 "nbformat": 4,
 "nbformat_minor": 2
}
