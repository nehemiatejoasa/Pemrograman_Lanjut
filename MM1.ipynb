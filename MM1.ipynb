{
  "nbformat": 4,
  "nbformat_minor": 0,
  "metadata": {
    "kernelspec": {
      "display_name": "Python 3",
      "language": "python",
      "name": "python3"
    },
    "language_info": {
      "codemirror_mode": {
        "name": "ipython",
        "version": 3
      },
      "file_extension": ".py",
      "mimetype": "text/x-python",
      "name": "python",
      "nbconvert_exporter": "python",
      "pygments_lexer": "ipython3",
      "version": "3.8.5"
    },
    "colab": {
      "name": "MM1.ipynb",
      "provenance": [],
      "include_colab_link": true
    }
  },
  "cells": [
    {
      "cell_type": "markdown",
      "metadata": {
        "id": "view-in-github",
        "colab_type": "text"
      },
      "source": [
        "<a href=\"https://colab.research.google.com/github/nehemiatejoasa/Pemrograman_Lanjut/blob/master/MM1.ipynb\" target=\"_parent\"><img src=\"https://colab.research.google.com/assets/colab-badge.svg\" alt=\"Open In Colab\"/></a>"
      ]
    },
    {
      "cell_type": "markdown",
      "metadata": {
        "id": "Jp0mZdTaTcxF"
      },
      "source": [
        "**A. Script**"
      ]
    },
    {
      "cell_type": "code",
      "metadata": {
        "id": "1s4AqduANLeK"
      },
      "source": [
        "import pandas as pd\n",
        "import numpy as np\n",
        "import matplotlib.pyplot as plt\n",
        "import seaborn as sns"
      ],
      "execution_count": 1,
      "outputs": []
    },
    {
      "cell_type": "markdown",
      "metadata": {
        "id": "95jvIPsyTgYE"
      },
      "source": [
        "**Definisi**"
      ]
    },
    {
      "cell_type": "code",
      "metadata": {
        "id": "yrUCzmwsNLeN"
      },
      "source": [
        "def rand_exp(x):\n",
        "    return -(1/x)*np.log(np.random.rand())"
      ],
      "execution_count": 2,
      "outputs": []
    },
    {
      "cell_type": "markdown",
      "metadata": {
        "id": "87VFboTZTjKc"
      },
      "source": [
        "**Main Code**"
      ]
    },
    {
      "cell_type": "code",
      "metadata": {
        "id": "WP8HSPjpNLeP"
      },
      "source": [
        "mu=1\n",
        "lamda=0.8\n",
        "N=100000\n",
        "IAT=[0]+[rand_exp(lamda) for i in range(1, N)]\n",
        "ST=[0]+[rand_exp(mu) for i in range(1, N)]\n",
        "JQAT=[0]+np.cumsum(IAT)\n",
        "GSAT=[0]\n",
        "LSAT=[0]\n",
        "TSIS=[0]\n",
        "TSIQ=[0]\n",
        "EN_theory=lamda*(1/(mu-lamda))"
      ],
      "execution_count": 3,
      "outputs": []
    },
    {
      "cell_type": "code",
      "metadata": {
        "id": "3ux3hW4XNLeP"
      },
      "source": [
        "for i in range(1,N):\n",
        "    if LSAT[i-1]<JQAT[i]:\n",
        "        GSAT.append(JQAT[i])\n",
        "    else:\n",
        "        GSAT.append(LSAT[i-1])\n",
        "    LSAT.append(ST[i]+GSAT[i])"
      ],
      "execution_count": 4,
      "outputs": []
    },
    {
      "cell_type": "code",
      "metadata": {
        "colab": {
          "base_uri": "https://localhost:8080/"
        },
        "id": "1ET3HPRqNLeQ",
        "outputId": "f148ce01-bd8b-49ac-eaa8-221b393f99fc"
      },
      "source": [
        "TSIS=TSIS+(np.array(LSAT)-JQAT)\n",
        "TSIQ=TSIS-np.array(ST)\n",
        "TSIS_cumsum=np.cumsum(TSIS)\n",
        "TSIS_ave=[TSIS_cumsum[i-1]/(i-1) for i in range(1, len(TSIS)+1)]\n",
        "IAT_cumsum=np.cumsum(IAT)\n",
        "IAT_ave=[IAT_cumsum[i-1]/(i-1) for i in range(1, len(IAT)+1)]\n",
        "TQIS=np.array(TSIS)-np.array(ST)\n",
        "EN=np.array(TSIS_ave)*lamda"
      ],
      "execution_count": 5,
      "outputs": [
        {
          "output_type": "stream",
          "text": [
            "/usr/local/lib/python3.7/dist-packages/ipykernel_launcher.py:4: RuntimeWarning: invalid value encountered in double_scalars\n",
            "  after removing the cwd from sys.path.\n",
            "/usr/local/lib/python3.7/dist-packages/ipykernel_launcher.py:6: RuntimeWarning: invalid value encountered in double_scalars\n",
            "  \n"
          ],
          "name": "stderr"
        }
      ]
    },
    {
      "cell_type": "code",
      "metadata": {
        "colab": {
          "base_uri": "https://localhost:8080/",
          "height": 419
        },
        "id": "qMgyZPI4NLeQ",
        "outputId": "3e435332-aac3-491a-a873-fca5ef0cb6d0"
      },
      "source": [
        "data={\n",
        "    'IAT':IAT,\n",
        "    'JQAT':JQAT,\n",
        "    'ST':ST,\n",
        "    'GSAT':GSAT,\n",
        "    'LSAT':LSAT,\n",
        "    'TSIS':TSIS,\n",
        "    'TSIQ':TSIQ,\n",
        "    'IAT-ave':IAT_ave,\n",
        "    'TSIS_ave':TSIS_ave,\n",
        "    'E[N]':EN\n",
        "}\n",
        "df=pd.DataFrame(data=data)\n",
        "df"
      ],
      "execution_count": 6,
      "outputs": [
        {
          "output_type": "execute_result",
          "data": {
            "text/html": [
              "<div>\n",
              "<style scoped>\n",
              "    .dataframe tbody tr th:only-of-type {\n",
              "        vertical-align: middle;\n",
              "    }\n",
              "\n",
              "    .dataframe tbody tr th {\n",
              "        vertical-align: top;\n",
              "    }\n",
              "\n",
              "    .dataframe thead th {\n",
              "        text-align: right;\n",
              "    }\n",
              "</style>\n",
              "<table border=\"1\" class=\"dataframe\">\n",
              "  <thead>\n",
              "    <tr style=\"text-align: right;\">\n",
              "      <th></th>\n",
              "      <th>IAT</th>\n",
              "      <th>JQAT</th>\n",
              "      <th>ST</th>\n",
              "      <th>GSAT</th>\n",
              "      <th>LSAT</th>\n",
              "      <th>TSIS</th>\n",
              "      <th>TSIQ</th>\n",
              "      <th>IAT-ave</th>\n",
              "      <th>TSIS_ave</th>\n",
              "      <th>E[N]</th>\n",
              "    </tr>\n",
              "  </thead>\n",
              "  <tbody>\n",
              "    <tr>\n",
              "      <th>0</th>\n",
              "      <td>0.000000</td>\n",
              "      <td>0.000000</td>\n",
              "      <td>0.000000</td>\n",
              "      <td>0.000000</td>\n",
              "      <td>0.000000</td>\n",
              "      <td>0.000000</td>\n",
              "      <td>0.000000e+00</td>\n",
              "      <td>NaN</td>\n",
              "      <td>NaN</td>\n",
              "      <td>NaN</td>\n",
              "    </tr>\n",
              "    <tr>\n",
              "      <th>1</th>\n",
              "      <td>2.139279</td>\n",
              "      <td>2.139279</td>\n",
              "      <td>0.031816</td>\n",
              "      <td>2.139279</td>\n",
              "      <td>2.171094</td>\n",
              "      <td>0.031816</td>\n",
              "      <td>-2.775558e-17</td>\n",
              "      <td>2.139279</td>\n",
              "      <td>0.031816</td>\n",
              "      <td>0.025453</td>\n",
              "    </tr>\n",
              "    <tr>\n",
              "      <th>2</th>\n",
              "      <td>0.853767</td>\n",
              "      <td>2.993045</td>\n",
              "      <td>0.001611</td>\n",
              "      <td>2.993045</td>\n",
              "      <td>2.994656</td>\n",
              "      <td>0.001611</td>\n",
              "      <td>-8.651933e-17</td>\n",
              "      <td>1.496523</td>\n",
              "      <td>0.016714</td>\n",
              "      <td>0.013371</td>\n",
              "    </tr>\n",
              "    <tr>\n",
              "      <th>3</th>\n",
              "      <td>1.801124</td>\n",
              "      <td>4.794169</td>\n",
              "      <td>0.819279</td>\n",
              "      <td>4.794169</td>\n",
              "      <td>5.613448</td>\n",
              "      <td>0.819279</td>\n",
              "      <td>0.000000e+00</td>\n",
              "      <td>1.598056</td>\n",
              "      <td>0.284235</td>\n",
              "      <td>0.227388</td>\n",
              "    </tr>\n",
              "    <tr>\n",
              "      <th>4</th>\n",
              "      <td>0.075187</td>\n",
              "      <td>4.869356</td>\n",
              "      <td>0.088020</td>\n",
              "      <td>5.613448</td>\n",
              "      <td>5.701468</td>\n",
              "      <td>0.832113</td>\n",
              "      <td>7.440921e-01</td>\n",
              "      <td>1.217339</td>\n",
              "      <td>0.421205</td>\n",
              "      <td>0.336964</td>\n",
              "    </tr>\n",
              "    <tr>\n",
              "      <th>...</th>\n",
              "      <td>...</td>\n",
              "      <td>...</td>\n",
              "      <td>...</td>\n",
              "      <td>...</td>\n",
              "      <td>...</td>\n",
              "      <td>...</td>\n",
              "      <td>...</td>\n",
              "      <td>...</td>\n",
              "      <td>...</td>\n",
              "      <td>...</td>\n",
              "    </tr>\n",
              "    <tr>\n",
              "      <th>99995</th>\n",
              "      <td>2.066606</td>\n",
              "      <td>125367.983135</td>\n",
              "      <td>0.004991</td>\n",
              "      <td>125367.983135</td>\n",
              "      <td>125367.988126</td>\n",
              "      <td>0.004991</td>\n",
              "      <td>4.555711e-12</td>\n",
              "      <td>1.253743</td>\n",
              "      <td>4.957146</td>\n",
              "      <td>3.965717</td>\n",
              "    </tr>\n",
              "    <tr>\n",
              "      <th>99996</th>\n",
              "      <td>0.350448</td>\n",
              "      <td>125368.333582</td>\n",
              "      <td>0.014965</td>\n",
              "      <td>125368.333582</td>\n",
              "      <td>125368.348547</td>\n",
              "      <td>0.014965</td>\n",
              "      <td>-3.906438e-12</td>\n",
              "      <td>1.253733</td>\n",
              "      <td>4.957097</td>\n",
              "      <td>3.965677</td>\n",
              "    </tr>\n",
              "    <tr>\n",
              "      <th>99997</th>\n",
              "      <td>0.991083</td>\n",
              "      <td>125369.324665</td>\n",
              "      <td>0.020538</td>\n",
              "      <td>125369.324665</td>\n",
              "      <td>125369.345203</td>\n",
              "      <td>0.020538</td>\n",
              "      <td>-3.233726e-12</td>\n",
              "      <td>1.253731</td>\n",
              "      <td>4.957047</td>\n",
              "      <td>3.965638</td>\n",
              "    </tr>\n",
              "    <tr>\n",
              "      <th>99998</th>\n",
              "      <td>0.367695</td>\n",
              "      <td>125369.692360</td>\n",
              "      <td>0.726708</td>\n",
              "      <td>125369.692360</td>\n",
              "      <td>125370.419068</td>\n",
              "      <td>0.726708</td>\n",
              "      <td>-5.620726e-12</td>\n",
              "      <td>1.253722</td>\n",
              "      <td>4.957005</td>\n",
              "      <td>3.965604</td>\n",
              "    </tr>\n",
              "    <tr>\n",
              "      <th>99999</th>\n",
              "      <td>0.010621</td>\n",
              "      <td>125369.702981</td>\n",
              "      <td>0.139220</td>\n",
              "      <td>125370.419068</td>\n",
              "      <td>125370.558288</td>\n",
              "      <td>0.855308</td>\n",
              "      <td>7.160876e-01</td>\n",
              "      <td>1.253710</td>\n",
              "      <td>4.956964</td>\n",
              "      <td>3.965571</td>\n",
              "    </tr>\n",
              "  </tbody>\n",
              "</table>\n",
              "<p>100000 rows × 10 columns</p>\n",
              "</div>"
            ],
            "text/plain": [
              "            IAT           JQAT        ST  ...   IAT-ave  TSIS_ave      E[N]\n",
              "0      0.000000       0.000000  0.000000  ...       NaN       NaN       NaN\n",
              "1      2.139279       2.139279  0.031816  ...  2.139279  0.031816  0.025453\n",
              "2      0.853767       2.993045  0.001611  ...  1.496523  0.016714  0.013371\n",
              "3      1.801124       4.794169  0.819279  ...  1.598056  0.284235  0.227388\n",
              "4      0.075187       4.869356  0.088020  ...  1.217339  0.421205  0.336964\n",
              "...         ...            ...       ...  ...       ...       ...       ...\n",
              "99995  2.066606  125367.983135  0.004991  ...  1.253743  4.957146  3.965717\n",
              "99996  0.350448  125368.333582  0.014965  ...  1.253733  4.957097  3.965677\n",
              "99997  0.991083  125369.324665  0.020538  ...  1.253731  4.957047  3.965638\n",
              "99998  0.367695  125369.692360  0.726708  ...  1.253722  4.957005  3.965604\n",
              "99999  0.010621  125369.702981  0.139220  ...  1.253710  4.956964  3.965571\n",
              "\n",
              "[100000 rows x 10 columns]"
            ]
          },
          "metadata": {
            "tags": []
          },
          "execution_count": 6
        }
      ]
    },
    {
      "cell_type": "markdown",
      "metadata": {
        "id": "loCiHuYQNbtG"
      },
      "source": [
        "**B. Grafik E[N]**"
      ]
    },
    {
      "cell_type": "code",
      "metadata": {
        "colab": {
          "base_uri": "https://localhost:8080/",
          "height": 350
        },
        "id": "6aybwEWLNLeR",
        "outputId": "36665a12-c8fd-4b72-cef9-2e042a17fe62"
      },
      "source": [
        "sns.lineplot(df.index,df['E[N]'])\n",
        "plt.xlabel('Jumlah Event Kedatangan Pelanggan')\n",
        "plt.ylabel('Jumlah Pelanggan Rata-Rata')\n",
        "plt.legend()\n",
        "plt.show()"
      ],
      "execution_count": 7,
      "outputs": [
        {
          "output_type": "stream",
          "text": [
            "/usr/local/lib/python3.7/dist-packages/seaborn/_decorators.py:43: FutureWarning: Pass the following variables as keyword args: x, y. From version 0.12, the only valid positional argument will be `data`, and passing other arguments without an explicit keyword will result in an error or misinterpretation.\n",
            "  FutureWarning\n",
            "No handles with labels found to put in legend.\n"
          ],
          "name": "stderr"
        },
        {
          "output_type": "display_data",
          "data": {
            "image/png": "[encoded data removed]",
            "text/plain": [
              "<Figure size 432x288 with 1 Axes>"
            ]
          },
          "metadata": {
            "tags": [],
            "needs_background": "light"
          }
        }
      ]
    },
    {
      "cell_type": "markdown",
      "metadata": {
        "id": "BWgGMlW4TpVG"
      },
      "source": [
        "**C.Grafik Simulasi vs Teori**"
      ]
    },
    {
      "cell_type": "code",
      "metadata": {
        "colab": {
          "base_uri": "https://localhost:8080/",
          "height": 333
        },
        "id": "IMsKwNAuTptl",
        "outputId": "910fc805-7516-41ba-ad45-a61ac78c6102"
      },
      "source": [
        "sns.lineplot(df.index,df['E[N]'])\n",
        "plt.axhline(EN_theory,color='r', label='E[N] Theory')\n",
        "plt.xlabel('Jumlah Event Kedatangan Pelanggan')\n",
        "plt.ylabel('Jumlah Pelanggan Rata-Rata')\n",
        "plt.legend()\n",
        "plt.show()"
      ],
      "execution_count": 8,
      "outputs": [
        {
          "output_type": "stream",
          "text": [
            "/usr/local/lib/python3.7/dist-packages/seaborn/_decorators.py:43: FutureWarning: Pass the following variables as keyword args: x, y. From version 0.12, the only valid positional argument will be `data`, and passing other arguments without an explicit keyword will result in an error or misinterpretation.\n",
            "  FutureWarning\n"
          ],
          "name": "stderr"
        },
        {
          "output_type": "display_data",
          "data": {
            "image/png": "[encoded data removed]",
            "text/plain": [
              "<Figure size 432x288 with 1 Axes>"
            ]
          },
          "metadata": {
            "tags": [],
            "needs_background": "light"
          }
        }
      ]
    }
  ]
}